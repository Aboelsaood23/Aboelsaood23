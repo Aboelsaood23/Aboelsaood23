{
  "cells": [
    {
      "cell_type": "markdown",
      "metadata": {
        "id": "view-in-github",
        "colab_type": "text"
      },
      "source": [
        "<a href=\"https://colab.research.google.com/github/Aboelsaood23/Aboelsaood23/blob/main/specilaization_1_Course_3.ipynb\" target=\"_parent\"><img src=\"https://colab.research.google.com/assets/colab-badge.svg\" alt=\"Open In Colab\"/></a>"
      ]
    },
    {
      "cell_type": "code",
      "source": [
        "import numpy as np\n",
        "import matplotlib.pyplot as plt\n",
        "# kmeans :Starts by guessing the initial centroids, and then\n",
        "#Refines this guess by :Repeatedly assigning examples to their closest centroids, and then,Recomputing the centroids based on the assignments.\n",
        "#The k-means algorithm will always converge to some final set of means for the centroids.\n",
        "#However, that the converged solution may not always be ideal and depends on the initial setting of the centroids.\n",
        "#One way to choose between these different solutions from different random initializations is to choose the one with the lowest cost function value (distortion)\n",
        "\n",
        "from google.colab import drive\n",
        "drive.mount('/content/drive')\n",
        "data_path =\"/content/drive/MyDrive/Colab Notebooks/data/ML Specialization/ex7_X.npy\"\n",
        "\n",
        "def load_data (file_path):\n",
        "  x =np.load(file_path)\n",
        "  return x\n",
        "\n",
        "x =load_data(data_path) #has two features and shape (300,2)\n",
        "\n",
        "# let's explore our data\n",
        "print(\"First rive elements of x are :\\n\",x[:5])\n",
        "print(\"the shape of x is\",x.shape)\n",
        "\n",
        "\n",
        "# function to intialze centroids randomly\n",
        "def kMeans_init_centroids(X, K):\n",
        "    # Randomly shuffle the data points\n",
        "    np.random.shuffle(X)\n",
        "    # Take the first K points as initial centroids\n",
        "    centroids = X[:K, :]\n",
        "\n",
        "    return centroids\n",
        "\n",
        "\n",
        "\n",
        "# function to fined closest_centroids\n",
        "def find_closest_centroids(x,centroids) :\n",
        "  #return idx(aray), on shape (m,) it contain sigle value for each example if this value is 2 means example one on cluster number 2\n",
        "  # if it's 5 means example 2 on cluster 5\n",
        "\n",
        "  #set number of number of clusters\n",
        "  k =centroids.shape[0] # intialized centroid cout and values we have to set them first using kMeans_init_centroids function\n",
        "  #create array to save indexis on it\n",
        "  idx =np.zeros(x.shape[0],dtype =int)\n",
        "\n",
        "  for i in range(x.shape[0]):\n",
        "    distance =[]\n",
        "    for j in range(centroids.shape[0]):\n",
        "      normal_ij_L2 =np.linalg.norm(x[i]-centroids[j])\n",
        "      distance.append(normal_ij_L2)\n",
        "    idx[i] =np.argmin(distance) # index number on distance list it's same index ordering of centroids\n",
        "\n",
        "  return idx\n",
        "\n",
        "\n",
        "\n",
        "\n",
        "#select centroids \"we did manulay here and these values are not exist on out origianl dataset x \"\n",
        "# in reality K_manes choose values randomly as initialized centroids from the dataset itself\n",
        "initial_centroids = np.array([[3,3], [6,2], [8,5]]) #not that we have 3 cluster categories count of clusters starts from 0,1,2\n",
        "idx = find_closest_centroids(x, initial_centroids)\n",
        "\n",
        "print(\"\\nFirst three elements in idx are \",idx[:3])\n",
        "\n",
        "#compute centroids\n",
        "def compute_centroids(x,idx,k):\n",
        "  m,n =x.shapae\n",
        "  # set array with zeros to save cetroids on it\n",
        "  centroids=np.zeros((k,n)) #k equal number of centroid \"can it could be different to origianl ??\", n to represnt cordiantes on feautes\n",
        "  for k in range(k):\n",
        "    points =x[idx ==k ]\n",
        "    centroids[]\n"
      ],
      "metadata": {
        "id": "PGFnT4wN4stE",
        "colab": {
          "base_uri": "https://localhost:8080/"
        },
        "outputId": "3e4c9b03-2ffd-44bb-988a-f0afe5089c51"
      },
      "execution_count": 15,
      "outputs": [
        {
          "output_type": "stream",
          "name": "stdout",
          "text": [
            "Drive already mounted at /content/drive; to attempt to forcibly remount, call drive.mount(\"/content/drive\", force_remount=True).\n",
            "First rive elements of x are :\n",
            " [[1.84207953 4.6075716 ]\n",
            " [5.65858312 4.79996405]\n",
            " [6.35257892 3.2908545 ]\n",
            " [2.90401653 4.61220411]\n",
            " [3.23197916 4.93989405]]\n",
            "the shape of x is (300, 2)\n",
            "\n",
            "First three elements in idx are  [0 2 1]\n"
          ]
        }
      ]
    },
    {
      "cell_type": "code",
      "source": [
        "idx\n",
        "\n",
        "unique_values, counts = np.unique(idx, return_counts=True)\n",
        "\n",
        "# Create a dictionary to store the counts of each unique value\n",
        "value_counts = dict(zip(unique_values, counts))\n",
        "print(value_counts)\n",
        "# Print the counts\n",
        "for value, count in value_counts.items():\n",
        "    print(f\"Value {value}: Count {count}\")"
      ],
      "metadata": {
        "colab": {
          "base_uri": "https://localhost:8080/"
        },
        "id": "r-weQ2azJ-VS",
        "outputId": "1656c8aa-5587-4ccf-bb5d-995955fded23"
      },
      "execution_count": 18,
      "outputs": [
        {
          "output_type": "stream",
          "name": "stdout",
          "text": [
            "{0: 191, 1: 103, 2: 6}\n",
            "Value 0: Count 191\n",
            "Value 1: Count 103\n",
            "Value 2: Count 6\n"
          ]
        }
      ]
    },
    {
      "cell_type": "code",
      "source": [
        "centroids.shape"
      ],
      "metadata": {
        "colab": {
          "base_uri": "https://localhost:8080/"
        },
        "id": "_7qGrYW1K0bA",
        "outputId": "fa89f880-45bc-4a67-c13d-f81c325e6cca"
      },
      "execution_count": 7,
      "outputs": [
        {
          "output_type": "execute_result",
          "data": {
            "text/plain": [
              "(4, 2)"
            ]
          },
          "metadata": {},
          "execution_count": 7
        }
      ]
    },
    {
      "cell_type": "code",
      "source": [],
      "metadata": {
        "id": "JXfA9pCCM69r"
      },
      "execution_count": null,
      "outputs": []
    }
  ],
  "metadata": {
    "colab": {
      "provenance": [],
      "authorship_tag": "ABX9TyNTrq+hc5zSNskUnpDk2f0C",
      "include_colab_link": true
    },
    "kernelspec": {
      "display_name": "Python 3",
      "name": "python3"
    },
    "language_info": {
      "name": "python"
    }
  },
  "nbformat": 4,
  "nbformat_minor": 0
}